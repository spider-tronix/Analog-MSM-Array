{
 "cells": [
  {
   "cell_type": "markdown",
   "metadata": {},
   "source": [
    "# Generate Dataset from all the simulation data\n",
    "\n",
    "Output format: csv\n",
    "\n",
    "## Sample:\n",
    "```\n",
    "WN1,WP1,VTH\n",
    "1.0,1.5,0.6667504808394307\n",
    "1.0,2.0,0.6749539226398081\n",
    "1.0,2.5,0.6769565523806391\n",
    "```\n",
    "\n",
    "VTH - Flipping voltage of the modelled LIQAF"
   ]
  },
  {
   "cell_type": "code",
   "execution_count": 1,
   "metadata": {},
   "outputs": [
    {
     "name": "stdout",
     "output_type": "stream",
     "text": [
      "                     yes       actual_WN1      actual_WP1 \n",
      "0         1.00000000e+00   1.00000000e+00  1.50000000e+00 \n",
      "1                v-sweep          v(Vout)              NaN\n",
      "2         0.00000000e+00  1.79999995e+00               NaN\n",
      "3         1.00000000e-02  1.79999995e+00               NaN\n",
      "4         2.00000000e-02  1.79999995e+00               NaN\n",
      "...                  ...              ...              ...\n",
      "5514842   1.76000000e+00  3.57761700e-10               NaN\n",
      "5514843   1.77000000e+00  3.66881688e-10               NaN\n",
      "5514844   1.78000000e+00  3.76463129e-10               NaN\n",
      "5514845   1.79000000e+00  3.86518670e-10               NaN\n",
      "5514846   1.80000000e+00  3.97061791e-10               NaN\n",
      "\n",
      "[5514847 rows x 3 columns]\n",
      "Index([' yes', 'actual_WN1', 'actual_WP1 '], dtype='object')\n",
      "Batches =  29972\n"
     ]
    }
   ],
   "source": [
    "import pandas as pd\n",
    "import numpy as np\n",
    "import time \n",
    "import matplotlib.pyplot as plt\n",
    "from __future__ import division \n",
    "df = pd.read_csv('sim_data.csv')\n",
    "print(df)\n",
    "print(df.keys())\n",
    "simulation_points = 184\n",
    "batches = int((df.shape[0]+1)/simulation_points)\n",
    "print('Batches = ', batches)"
   ]
  },
  {
   "cell_type": "code",
   "execution_count": 2,
   "metadata": {},
   "outputs": [],
   "source": [
    "def interpolated_intercept(x, y1, y2):\n",
    "    \"\"\"Find the intercept of two curves, given by the same x data\"\"\"\n",
    "\n",
    "    def intercept(point1, point2, point3, point4):\n",
    "        \"\"\"find the intersection between two lines\n",
    "        the first line is defined by the line between point1 and point2\n",
    "        the first line is defined by the line between point3 and point4\n",
    "        each point is an (x,y) tuple.\n",
    "\n",
    "        So, for example, you can find the intersection between\n",
    "        intercept((0,0), (1,1), (0,1), (1,0)) = (0.5, 0.5)\n",
    "\n",
    "        Returns: the intercept, in (x,y) format\n",
    "        \"\"\"    \n",
    "\n",
    "        def line(p1, p2):\n",
    "            A = (p1[1] - p2[1])\n",
    "            B = (p2[0] - p1[0])\n",
    "            C = (p1[0]*p2[1] - p2[0]*p1[1])\n",
    "            return A, B, -C\n",
    "\n",
    "        def intersection(L1, L2):\n",
    "            D  = L1[0] * L2[1] - L1[1] * L2[0]\n",
    "            Dx = L1[2] * L2[1] - L1[1] * L2[2]\n",
    "            Dy = L1[0] * L2[2] - L1[2] * L2[0]\n",
    "\n",
    "            x = Dx / D\n",
    "            y = Dy / D\n",
    "            return x,y\n",
    "\n",
    "        L1 = line([point1[0],point1[1]], [point2[0],point2[1]])\n",
    "        L2 = line([point3[0],point3[1]], [point4[0],point4[1]])\n",
    "\n",
    "        R = intersection(L1, L2)\n",
    "\n",
    "        return R\n",
    "\n",
    "    idx = np.argwhere(np.diff(np.sign(y1 - y2)) != 0)\n",
    "    xc, yc = intercept((x[idx], y1[idx]),((x[idx+1], y1[idx+1])), ((x[idx], y2[idx])), ((x[idx+1], y2[idx+1])))\n",
    "    return xc,yc\n"
   ]
  },
  {
   "cell_type": "code",
   "execution_count": 3,
   "metadata": {},
   "outputs": [
    {
     "name": "stdout",
     "output_type": "stream",
     "text": [
      "0.6470991904921811\n",
      "(3.5, 4.0, 0.6470991904921811)\n"
     ]
    },
    {
     "data": {
      "image/png": "[encoded data removed]",
      "text/plain": [
       "<Figure size 432x288 with 1 Axes>"
      ]
     },
     "metadata": {
      "needs_background": "light"
     },
     "output_type": "display_data"
    }
   ],
   "source": [
    "batch_number = 1000\n",
    "batch_start = batch_number * simulation_points\n",
    "sub_data = df[ batch_start : batch_start + simulation_points-1]\n",
    "# print(sub_data)\n",
    "WN1 = float(sub_data['actual_WN1'][batch_start])\n",
    "WP1 = float(sub_data['actual_WP1 '][batch_start])\n",
    "\n",
    "VIN = np.fromiter(map(float, sub_data[' yes'][2:]), dtype=np.float64)\n",
    "VOUT = np.fromiter(map(float, sub_data['actual_WN1'][2:]), dtype=np.float64)\n",
    "\n",
    "xc, yc = interpolated_intercept(VIN,VIN,VOUT)\n",
    "VTH = xc[0][0]\n",
    "\n",
    "plt.plot(VIN, VOUT, VIN, VIN)\n",
    "plt.plot(xc, yc, 'co', ms=5, label='Nearest data-point, with linear interpolation')\n",
    "\n",
    "print(VTH)\n",
    "\n",
    "data = (WN1, WP1, VTH)\n",
    "print(data)"
   ]
  },
  {
   "cell_type": "code",
   "execution_count": 4,
   "metadata": {},
   "outputs": [
    {
     "name": "stdout",
     "output_type": "stream",
     "text": [
      "        WN1   WP1       VTH\n",
      "0       1.0   1.5  0.666750\n",
      "1       1.0   2.0  0.674954\n",
      "2       1.0   2.5  0.676957\n",
      "3       1.0   3.0  0.685833\n",
      "4       1.0   3.5  0.687465\n",
      "...     ...   ...       ...\n",
      "29967  76.0  60.0  0.676305\n",
      "29968  76.0  60.5  0.676313\n",
      "29969  76.0  61.0  0.676321\n",
      "29970  76.0  61.5  0.676329\n",
      "29971  76.0  62.0  0.676337\n",
      "\n",
      "[29972 rows x 3 columns]\n"
     ]
    }
   ],
   "source": [
    "out = pd.DataFrame(columns = ['WN1', 'WP1', 'VTH'])\n",
    "for batch_number in range(0,batches):\n",
    "    batch_start = batch_number * simulation_points\n",
    "    sub_data = df[ batch_start : batch_start + simulation_points-1]\n",
    "    # print(sub_data)\n",
    "    WN1 = float(sub_data['actual_WN1'][batch_start])\n",
    "    WP1 = float(sub_data['actual_WP1 '][batch_start])\n",
    "\n",
    "    VIN = np.fromiter(map(float, sub_data[' yes'][2:]), dtype=np.float64)\n",
    "    VOUT = np.fromiter(map(float, sub_data['actual_WN1'][2:]), dtype=np.float64)\n",
    "\n",
    "    xc, yc = interpolated_intercept(VIN,VIN,VOUT)\n",
    "    VTH = xc[0][0]\n",
    "\n",
    "    out = out.append({'WN1':WN1, 'WP1':WP1, 'VTH':VTH}, ignore_index= True)\n",
    "print(out)"
   ]
  },
  {
   "cell_type": "code",
   "execution_count": 5,
   "metadata": {},
   "outputs": [],
   "source": [
    "out.to_csv('Dataset.csv',index=False)"
   ]
  }
 ],
 "metadata": {
  "interpreter": {
   "hash": "ed78dd09efe11f99b4b91da8c69a23aa34a6232f4903f315803edfd9382e5ae1"
  },
  "kernelspec": {
   "display_name": "Python 3.9.5 64-bit ('base': conda)",
   "language": "python",
   "name": "python3"
  },
  "language_info": {
   "codemirror_mode": {
    "name": "ipython",
    "version": 3
   },
   "file_extension": ".py",
   "mimetype": "text/x-python",
   "name": "python",
   "nbconvert_exporter": "python",
   "pygments_lexer": "ipython3",
   "version": "3.9.5"
  },
  "orig_nbformat": 4
 },
 "nbformat": 4,
 "nbformat_minor": 2
}
