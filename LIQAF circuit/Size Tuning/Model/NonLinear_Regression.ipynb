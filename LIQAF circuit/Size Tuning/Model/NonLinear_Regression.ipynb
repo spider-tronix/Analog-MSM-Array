{
 "cells": [
  {
   "cell_type": "code",
   "execution_count": 1,
   "metadata": {},
   "outputs": [],
   "source": [
    "import pandas as pd\n",
    "import numpy as np\n",
    "import matplotlib.pyplot as plt\n",
    "from math import sqrt\n",
    "\n",
    "from sklearn import model_selection\n",
    "from sklearn.ensemble import RandomForestRegressor\n",
    "from sklearn.metrics import r2_score\n",
    "from sklearn.model_selection import train_test_split\n",
    "from sklearn.metrics import mean_squared_error\n",
    "from sklearn import tree\n",
    "from sklearn import linear_model"
   ]
  },
  {
   "cell_type": "code",
   "execution_count": 2,
   "metadata": {},
   "outputs": [
    {
     "name": "stdout",
     "output_type": "stream",
     "text": [
      "(39601, 3)\n",
      "                WN1           WP1           VTH\n",
      "count  39601.000000  39601.000000  39601.000000\n",
      "mean      50.500000     50.500000      0.672020\n",
      "std       28.723176     28.723176      0.024614\n",
      "min        1.000000      1.000000      0.586869\n",
      "25%       25.500000     25.500000      0.659298\n",
      "50%       50.500000     50.500000      0.676322\n",
      "75%       75.500000     75.500000      0.686173\n",
      "max      100.000000    100.000000      0.796247\n"
     ]
    }
   ],
   "source": [
    "df = pd.read_csv('../Dataset/Dataset.csv')\n",
    "print(df.shape)\n",
    "print(df.describe())"
   ]
  },
  {
   "cell_type": "code",
   "execution_count": 3,
   "metadata": {},
   "outputs": [
    {
     "name": "stdout",
     "output_type": "stream",
     "text": [
      "0        0.000000\n",
      "1        0.405465\n",
      "2        0.693147\n",
      "3        0.916291\n",
      "4        1.098612\n",
      "           ...   \n",
      "39596    4.584967\n",
      "39597    4.590057\n",
      "39598    4.595120\n",
      "39599    4.600158\n",
      "39600    4.605170\n",
      "Name: log WP1, Length: 39601, dtype: float64\n"
     ]
    }
   ],
   "source": [
    "df['1/WN1'] = 1/df['WN1']\n",
    "# df['WP1_2'] = df['WP1'] * df['WP1']\n",
    "df['log WP1'] = np.log(df['WP1'])\n",
    "print(df['log WP1'])"
   ]
  },
  {
   "cell_type": "code",
   "execution_count": 4,
   "metadata": {},
   "outputs": [
    {
     "name": "stdout",
     "output_type": "stream",
     "text": [
      "(31680, 2)\n",
      "(7921, 2)\n"
     ]
    }
   ],
   "source": [
    "target_column = ['VTH'] \n",
    "exclude_column = ['WN1','WP1']\n",
    "predictors = list(set(list(df.columns))-set(target_column) - set(list(exclude_column)))\n",
    "\n",
    "X = df[predictors].values\n",
    "y = df[target_column].values\n",
    "\n",
    "X_train, X_test, y_train, y_test = train_test_split(X, y, test_size=0.20, random_state=40)\n",
    "print(X_train.shape)\n",
    "print(X_test.shape)"
   ]
  },
  {
   "cell_type": "code",
   "execution_count": 5,
   "metadata": {},
   "outputs": [
    {
     "name": "stdout",
     "output_type": "stream",
     "text": [
      ">> Random Forest Model\n",
      "RMSE Train =  0.000117718307021345\n",
      "R2 Train =  0.9999771478861751\n",
      "RMSE Test =  0.0003444826521652956\n",
      "R2 Test =  0.9998033595146382\n"
     ]
    }
   ],
   "source": [
    "# Fit Random Forest model\n",
    "print('>> Random Forest Model')\n",
    "model_rf = RandomForestRegressor(n_estimators=500, oob_score=True, random_state=100)\n",
    "model_rf.fit(X_train, y_train.ravel()) \n",
    "pred_train_rf= model_rf.predict(X_train)\n",
    "\n",
    "print('RMSE Train = ', np.sqrt(mean_squared_error(y_train,pred_train_rf)))\n",
    "print('R2 Train = ', r2_score(y_train, pred_train_rf))\n",
    "\n",
    "pred_test_rf = model_rf.predict(X_test)\n",
    "print('RMSE Test = ', np.sqrt(mean_squared_error(y_test,pred_test_rf)))\n",
    "print('R2 Test = ', r2_score(y_test, pred_test_rf))"
   ]
  },
  {
   "cell_type": "code",
   "execution_count": 6,
   "metadata": {},
   "outputs": [
    {
     "name": "stdout",
     "output_type": "stream",
     "text": [
      "['1/WN1', 'log WP1']\n",
      "[0.3176682 0.6823318]\n"
     ]
    }
   ],
   "source": [
    "print(predictors)\n",
    "print(model_rf.feature_importances_)"
   ]
  },
  {
   "cell_type": "code",
   "execution_count": 7,
   "metadata": {},
   "outputs": [
    {
     "name": "stdout",
     "output_type": "stream",
     "text": [
      ">> Linear Model\n",
      "RMSE Train =  0.0045370046527866735\n",
      "R2 Train =  0.9660549218679363\n",
      "RMSE Test =  0.004346243902786599\n",
      "R2 Test =  0.9686984088798837\n"
     ]
    }
   ],
   "source": [
    "print('>> Linear Model')\n",
    "model_linr = linear_model.LinearRegression()\n",
    "model_linr.fit(X_train, y_train.ravel()) \n",
    "pred_train_lr= model_linr.predict(X_train)\n",
    "\n",
    "print('RMSE Train = ', np.sqrt(mean_squared_error(y_train,pred_train_lr)))\n",
    "print('R2 Train = ', r2_score(y_train, pred_train_lr))\n",
    "\n",
    "pred_test_lr = model_linr.predict(X_test)\n",
    "print('RMSE Test = ', np.sqrt(mean_squared_error(y_test,pred_test_lr)))\n",
    "print('R2 Test = ', r2_score(y_test, pred_test_lr))"
   ]
  },
  {
   "cell_type": "code",
   "execution_count": 8,
   "metadata": {},
   "outputs": [
    {
     "name": "stdout",
     "output_type": "stream",
     "text": [
      "Equation: VTH = 0.12769458850603654 * 1/WN1  + 0.02246644489981312 * log WP1  + 0.5838724488838833\n"
     ]
    }
   ],
   "source": [
    "# print('Variables = ',predictors)\n",
    "# print('Coeff =', model_linr.coef_)\n",
    "# print('Intercept =', model_linr.intercept_)\n",
    "\n",
    "print('Equation: VTH = ', end='')\n",
    "for i in range(0,len(predictors)):\n",
    "    print( model_linr.coef_[i], '*', predictors[i], ' + ', end='')\n",
    "print(model_linr.intercept_)"
   ]
  }
 ],
 "metadata": {
  "interpreter": {
   "hash": "ed78dd09efe11f99b4b91da8c69a23aa34a6232f4903f315803edfd9382e5ae1"
  },
  "kernelspec": {
   "display_name": "Python 3.9.5 64-bit ('base': conda)",
   "language": "python",
   "name": "python3"
  },
  "language_info": {
   "codemirror_mode": {
    "name": "ipython",
    "version": 3
   },
   "file_extension": ".py",
   "mimetype": "text/x-python",
   "name": "python",
   "nbconvert_exporter": "python",
   "pygments_lexer": "ipython3",
   "version": "3.9.5"
  },
  "orig_nbformat": 4
 },
 "nbformat": 4,
 "nbformat_minor": 2
}
